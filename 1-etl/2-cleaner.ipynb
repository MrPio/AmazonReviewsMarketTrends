{
 "cells": [
  {
   "cell_type": "markdown",
   "metadata": {},
   "source": [
    "# Reviews Text Extractor\n",
    "This notebook is used downstream to the scraping algorithm to extract the text of the reviews from the `html` bodies."
   ]
  },
  {
   "cell_type": "code",
   "execution_count": 172,
   "metadata": {},
   "outputs": [],
   "source": [
    "import json\n",
    "from bs4 import BeautifulSoup\n",
    "import pandas as pd\n",
    "import matplotlib.pyplot as plt"
   ]
  },
  {
   "cell_type": "code",
   "execution_count": 173,
   "metadata": {},
   "outputs": [],
   "source": [
    "def clean_reviews(html: str) -> list[dict[str, str]]:\n",
    "    soup = BeautifulSoup(html, \"html.parser\")\n",
    "    titles = []\n",
    "    contents = []\n",
    "    dates = []\n",
    "\n",
    "    # Extract the titles\n",
    "    for a in soup.find_all(\"a\", class_=\"review-title-content\"):\n",
    "        span_tags = a.find_all(\"span\")\n",
    "        titles.append(span_tags[2].get_text(strip=True)\n",
    "                      if len(span_tags) >= 3 else '')\n",
    "\n",
    "    # Extract the content\n",
    "    for span in soup.find_all(\"span\", class_=\"review-text-content\"):\n",
    "        span_tags = span.find_all(\"span\")\n",
    "        contents.append(span_tags[0].get_text(\n",
    "            strip=True) if len(span_tags) >= 1 else '')\n",
    "\n",
    "    # Extract the date\n",
    "    for span in soup.find_all(\"span\", class_=\"review-date\"):\n",
    "        dates.append(span.get_text(strip=True).split('on ')[1])\n",
    "\n",
    "    return [{'title': t, 'content': c, 'date': d} for t, c, d in zip(titles, contents, dates)]"
   ]
  },
  {
   "cell_type": "code",
   "execution_count": 174,
   "metadata": {},
   "outputs": [],
   "source": [
    "reviews_raw={}\n",
    "with open('reviews_raw.json') as f:\n",
    "    reviews_raw = json.load(f)"
   ]
  },
  {
   "cell_type": "code",
   "execution_count": 175,
   "metadata": {},
   "outputs": [],
   "source": [
    "df = pd.DataFrame([\n",
    "    {\n",
    "        'stars': key.split(':')[0],\n",
    "        'timestamp': review['date'],\n",
    "        'title': review['title'],\n",
    "        'content': review['content']\n",
    "    }\n",
    "    for key, html in reviews_raw.items()\n",
    "    for review in clean_reviews(html)\n",
    "])\n",
    "df['timestamp'] = pd.to_datetime(df['timestamp'])"
   ]
  },
  {
   "cell_type": "code",
   "execution_count": 176,
   "metadata": {},
   "outputs": [
    {
     "data": {
      "text/html": [
       "<div>\n",
       "<style scoped>\n",
       "    .dataframe tbody tr th:only-of-type {\n",
       "        vertical-align: middle;\n",
       "    }\n",
       "\n",
       "    .dataframe tbody tr th {\n",
       "        vertical-align: top;\n",
       "    }\n",
       "\n",
       "    .dataframe thead th {\n",
       "        text-align: right;\n",
       "    }\n",
       "</style>\n",
       "<table border=\"1\" class=\"dataframe\">\n",
       "  <thead>\n",
       "    <tr style=\"text-align: right;\">\n",
       "      <th></th>\n",
       "      <th>stars</th>\n",
       "      <th>timestamp</th>\n",
       "      <th>title</th>\n",
       "      <th>content</th>\n",
       "    </tr>\n",
       "  </thead>\n",
       "  <tbody>\n",
       "    <tr>\n",
       "      <th>0</th>\n",
       "      <td>1</td>\n",
       "      <td>2024-01-08</td>\n",
       "      <td>Terrible</td>\n",
       "      <td>I've had my printer for a year. It stopped wor...</td>\n",
       "    </tr>\n",
       "    <tr>\n",
       "      <th>1</th>\n",
       "      <td>1</td>\n",
       "      <td>2024-12-19</td>\n",
       "      <td>Instant ink is a JOKE</td>\n",
       "      <td>I will never purchase another HP product again...</td>\n",
       "    </tr>\n",
       "    <tr>\n",
       "      <th>2</th>\n",
       "      <td>1</td>\n",
       "      <td>2024-09-10</td>\n",
       "      <td>Avoid</td>\n",
       "      <td>The printer itself is decent. HP promotes thei...</td>\n",
       "    </tr>\n",
       "    <tr>\n",
       "      <th>3</th>\n",
       "      <td>1</td>\n",
       "      <td>2024-12-30</td>\n",
       "      <td>a bit suspicious of the 3 month ink supply</td>\n",
       "      <td>I've had a series of errors with the printer w...</td>\n",
       "    </tr>\n",
       "    <tr>\n",
       "      <th>4</th>\n",
       "      <td>1</td>\n",
       "      <td>2024-11-05</td>\n",
       "      <td>If you want to waste time, buy this one!</td>\n",
       "      <td>This printer frequently \"resets\" itself and no...</td>\n",
       "    </tr>\n",
       "  </tbody>\n",
       "</table>\n",
       "</div>"
      ],
      "text/plain": [
       "  stars  timestamp                                       title  \\\n",
       "0     1 2024-01-08                                    Terrible   \n",
       "1     1 2024-12-19                       Instant ink is a JOKE   \n",
       "2     1 2024-09-10                                       Avoid   \n",
       "3     1 2024-12-30  a bit suspicious of the 3 month ink supply   \n",
       "4     1 2024-11-05    If you want to waste time, buy this one!   \n",
       "\n",
       "                                             content  \n",
       "0  I've had my printer for a year. It stopped wor...  \n",
       "1  I will never purchase another HP product again...  \n",
       "2  The printer itself is decent. HP promotes thei...  \n",
       "3  I've had a series of errors with the printer w...  \n",
       "4  This printer frequently \"resets\" itself and no...  "
      ]
     },
     "execution_count": 176,
     "metadata": {},
     "output_type": "execute_result"
    }
   ],
   "source": [
    "df.head()"
   ]
  },
  {
   "cell_type": "code",
   "execution_count": 177,
   "metadata": {},
   "outputs": [],
   "source": [
    "df.to_csv('reviews_clean.csv')"
   ]
  }
 ],
 "metadata": {
  "kernelspec": {
   "display_name": "Python 3",
   "language": "python",
   "name": "python3"
  },
  "language_info": {
   "codemirror_mode": {
    "name": "ipython",
    "version": 3
   },
   "file_extension": ".py",
   "mimetype": "text/x-python",
   "name": "python",
   "nbconvert_exporter": "python",
   "pygments_lexer": "ipython3",
   "version": "3.13.1"
  }
 },
 "nbformat": 4,
 "nbformat_minor": 2
}
