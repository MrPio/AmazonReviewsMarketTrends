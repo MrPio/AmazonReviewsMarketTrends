{
 "cells": [
  {
   "cell_type": "markdown",
   "metadata": {},
   "source": [
    "# Reviews Text Extractor\n",
    "This notebook is used downstream to the scraping algorithm to extract the text of the reviews from the `html` bodies."
   ]
  },
  {
   "cell_type": "code",
   "execution_count": 5,
   "metadata": {},
   "outputs": [],
   "source": [
    "import json\n",
    "from bs4 import BeautifulSoup\n",
    "import pandas as pd"
   ]
  },
  {
   "cell_type": "code",
   "execution_count": 12,
   "metadata": {},
   "outputs": [],
   "source": [
    "def clean_reviews(html: str) -> list[dict[str, str]]:\n",
    "    soup = BeautifulSoup(html, \"html.parser\")\n",
    "    titles = []\n",
    "    contents = []\n",
    "\n",
    "    # Extract the titles\n",
    "    for a in soup.find_all(\"a\", class_=\"review-title-content\"):\n",
    "        span_tags = a.find_all(\"span\")\n",
    "        titles.append(span_tags[2].get_text(strip=True)\n",
    "                      if len(span_tags) >= 3 else '')\n",
    "\n",
    "    # Extract the content\n",
    "    for span in soup.find_all(\"span\", class_=\"review-text-content\"):\n",
    "        span_tags = span.find_all(\"span\")\n",
    "        contents.append(span_tags[0].get_text(\n",
    "            strip=True) if len(span_tags) >= 1 else '')\n",
    "\n",
    "    return [{'title': t, 'content': c} for t, c in zip(titles, contents)]"
   ]
  },
  {
   "cell_type": "code",
   "execution_count": 3,
   "metadata": {},
   "outputs": [],
   "source": [
    "reviews_raw={}\n",
    "with open('reviews_raw.json') as f:\n",
    "    reviews_raw = json.load(f)"
   ]
  },
  {
   "cell_type": "code",
   "execution_count": 16,
   "metadata": {},
   "outputs": [],
   "source": [
    "df = pd.DataFrame(columns=['stars', 'title', 'content'])\n",
    "for key, html in reviews_raw.items():\n",
    "    for review in clean_reviews(html):\n",
    "        df.loc[len(df)] = {'stars': key.split(':')[\n",
    "            0], 'title': review['title'], 'content': review['content']}"
   ]
  },
  {
   "cell_type": "code",
   "execution_count": 25,
   "metadata": {},
   "outputs": [],
   "source": [
    "df.to_csv('reviews_clean.csv')"
   ]
  }
 ],
 "metadata": {
  "kernelspec": {
   "display_name": "Python 3",
   "language": "python",
   "name": "python3"
  },
  "language_info": {
   "codemirror_mode": {
    "name": "ipython",
    "version": 3
   },
   "file_extension": ".py",
   "mimetype": "text/x-python",
   "name": "python",
   "nbconvert_exporter": "python",
   "pygments_lexer": "ipython3",
   "version": "3.13.1"
  }
 },
 "nbformat": 4,
 "nbformat_minor": 2
}
