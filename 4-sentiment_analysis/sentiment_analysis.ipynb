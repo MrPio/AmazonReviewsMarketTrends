{
 "cells": [
  {
   "cell_type": "markdown",
   "metadata": {},
   "source": [
    "# Sentiment Analysis with TextBlob"
   ]
  },
  {
   "cell_type": "code",
   "execution_count": 1,
   "metadata": {},
   "outputs": [],
   "source": [
    "from textblob import TextBlob"
   ]
  },
  {
   "cell_type": "code",
   "execution_count": null,
   "metadata": {},
   "outputs": [],
   "source": [
    "for i, tweet_text in zip(range(20), tweets_text_collection):\n",
    "    analysis = TextBlob(tweet_text)\n",
    "    print(analysis.sentiment)\n",
    "\n",
    "    # Polarity is a value between [-1.0, 1.0] and tells how positive or negative the text is.\n",
    "    # Subjectivity is within the range [0.0, 1.0] where 0.0 is very objective and 1.0 is very subjective."
   ]
  }
 ],
 "metadata": {
  "kernelspec": {
   "display_name": "Python 3",
   "language": "python",
   "name": "python3"
  },
  "language_info": {
   "codemirror_mode": {
    "name": "ipython",
    "version": 3
   },
   "file_extension": ".py",
   "mimetype": "text/x-python",
   "name": "python",
   "nbconvert_exporter": "python",
   "pygments_lexer": "ipython3",
   "version": "3.13.1"
  }
 },
 "nbformat": 4,
 "nbformat_minor": 2
}
